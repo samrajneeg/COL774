{
 "cells": [
  {
   "cell_type": "code",
   "execution_count": 3,
   "id": "518903e8",
   "metadata": {},
   "outputs": [],
   "source": [
    "import pandas as pd\n",
    "import numpy as np\n",
    "import math\n",
    "import time\n",
    "import random\n",
    "import re\n",
    "from PIL import Image\n",
    "import matplotlib.pyplot as plt\n",
    "from cvxopt import matrix\n",
    "from cvxopt import solvers\n",
    "from libsvm.svmutil import *\n",
    "from pathlib import Path\n",
    "from sklearn.svm import *"
   ]
  },
  {
   "cell_type": "code",
   "execution_count": 4,
   "id": "fa38eb23",
   "metadata": {},
   "outputs": [],
   "source": [
    "class0 = list()\n",
    "path0 = 'svm/train/1/'\n",
    "for image in Path(path0).glob('*.jpg'):\n",
    "    image_resized = np.array(Image.open(image).resize((16, 16))).flatten()/255\n",
    "    class0.append(image_resized)\n",
    "label0 = np.array(class0) \n",
    "\n",
    "class1 = list()\n",
    "path1 = 'svm/train/2/'\n",
    "for image in Path(path1).glob('*.jpg'):\n",
    "    image_resized = np.array(Image.open(image).resize((16, 16))).flatten()/255\n",
    "    class1.append(image_resized)\n",
    "label1 = np.array(class1) "
   ]
  },
  {
   "cell_type": "code",
   "execution_count": 5,
   "id": "c219ba93",
   "metadata": {},
   "outputs": [],
   "source": [
    "y0 = np.full((2380, 1), fill_value=-1, dtype='double')\n",
    "y1 = np.ones((2380, 1), dtype='double')\n",
    "y = np.concatenate((y0, y1))\n",
    "\n",
    "x = np.concatenate((label0, label1))"
   ]
  },
  {
   "cell_type": "code",
   "execution_count": 6,
   "id": "bce9dc81",
   "metadata": {},
   "outputs": [],
   "source": [
    "def accuracy(y_pred, vy):\n",
    "    count = 0\n",
    "    for i in range(0, vy.shape[0]):\n",
    "        count = count+1 if(vy[i][0]==y_pred[i]) else count\n",
    "    return count/len(y_pred)"
   ]
  },
  {
   "cell_type": "code",
   "execution_count": 7,
   "id": "28b7b8eb",
   "metadata": {},
   "outputs": [],
   "source": [
    "def svm_cross_validation(c):\n",
    "    accuracies = []\n",
    "    for i in range(0, 5):\n",
    "        subset_x = np.delete(x, slice(i*952, (i+1)*952), 0)\n",
    "        subset_y = np.delete(y, slice(i*952, (i+1)*952), 0)\n",
    "        vx = x[i*952 : (i+1)*952]\n",
    "        vy = y[i*952 : (i+1)*952]\n",
    "\n",
    "        guassian_model = SVC(kernel='rbf', C=c, gamma=0.001)\n",
    "        guassian_model.fit(subset_x, subset_y)\n",
    "        accuracies.append(accuracy(guassian_model.predict(vx), vy))\n",
    "\n",
    "    return np.mean(np.array(accuracies))"
   ]
  },
  {
   "cell_type": "code",
   "execution_count": 8,
   "id": "b461dd4c",
   "metadata": {},
   "outputs": [
    {
     "name": "stderr",
     "output_type": "stream",
     "text": [
      "c:\\Users\\samra\\AppData\\Local\\Programs\\Python\\Python311\\Lib\\site-packages\\sklearn\\utils\\validation.py:1183: DataConversionWarning: A column-vector y was passed when a 1d array was expected. Please change the shape of y to (n_samples, ), for example using ravel().\n",
      "  y = column_or_1d(y, warn=True)\n",
      "c:\\Users\\samra\\AppData\\Local\\Programs\\Python\\Python311\\Lib\\site-packages\\sklearn\\utils\\validation.py:1183: DataConversionWarning: A column-vector y was passed when a 1d array was expected. Please change the shape of y to (n_samples, ), for example using ravel().\n",
      "  y = column_or_1d(y, warn=True)\n",
      "c:\\Users\\samra\\AppData\\Local\\Programs\\Python\\Python311\\Lib\\site-packages\\sklearn\\utils\\validation.py:1183: DataConversionWarning: A column-vector y was passed when a 1d array was expected. Please change the shape of y to (n_samples, ), for example using ravel().\n",
      "  y = column_or_1d(y, warn=True)\n",
      "c:\\Users\\samra\\AppData\\Local\\Programs\\Python\\Python311\\Lib\\site-packages\\sklearn\\utils\\validation.py:1183: DataConversionWarning: A column-vector y was passed when a 1d array was expected. Please change the shape of y to (n_samples, ), for example using ravel().\n",
      "  y = column_or_1d(y, warn=True)\n",
      "c:\\Users\\samra\\AppData\\Local\\Programs\\Python\\Python311\\Lib\\site-packages\\sklearn\\utils\\validation.py:1183: DataConversionWarning: A column-vector y was passed when a 1d array was expected. Please change the shape of y to (n_samples, ), for example using ravel().\n",
      "  y = column_or_1d(y, warn=True)\n",
      "c:\\Users\\samra\\AppData\\Local\\Programs\\Python\\Python311\\Lib\\site-packages\\sklearn\\utils\\validation.py:1183: DataConversionWarning: A column-vector y was passed when a 1d array was expected. Please change the shape of y to (n_samples, ), for example using ravel().\n",
      "  y = column_or_1d(y, warn=True)\n",
      "c:\\Users\\samra\\AppData\\Local\\Programs\\Python\\Python311\\Lib\\site-packages\\sklearn\\utils\\validation.py:1183: DataConversionWarning: A column-vector y was passed when a 1d array was expected. Please change the shape of y to (n_samples, ), for example using ravel().\n",
      "  y = column_or_1d(y, warn=True)\n",
      "c:\\Users\\samra\\AppData\\Local\\Programs\\Python\\Python311\\Lib\\site-packages\\sklearn\\utils\\validation.py:1183: DataConversionWarning: A column-vector y was passed when a 1d array was expected. Please change the shape of y to (n_samples, ), for example using ravel().\n",
      "  y = column_or_1d(y, warn=True)\n",
      "c:\\Users\\samra\\AppData\\Local\\Programs\\Python\\Python311\\Lib\\site-packages\\sklearn\\utils\\validation.py:1183: DataConversionWarning: A column-vector y was passed when a 1d array was expected. Please change the shape of y to (n_samples, ), for example using ravel().\n",
      "  y = column_or_1d(y, warn=True)\n",
      "c:\\Users\\samra\\AppData\\Local\\Programs\\Python\\Python311\\Lib\\site-packages\\sklearn\\utils\\validation.py:1183: DataConversionWarning: A column-vector y was passed when a 1d array was expected. Please change the shape of y to (n_samples, ), for example using ravel().\n",
      "  y = column_or_1d(y, warn=True)\n",
      "c:\\Users\\samra\\AppData\\Local\\Programs\\Python\\Python311\\Lib\\site-packages\\sklearn\\utils\\validation.py:1183: DataConversionWarning: A column-vector y was passed when a 1d array was expected. Please change the shape of y to (n_samples, ), for example using ravel().\n",
      "  y = column_or_1d(y, warn=True)\n",
      "c:\\Users\\samra\\AppData\\Local\\Programs\\Python\\Python311\\Lib\\site-packages\\sklearn\\utils\\validation.py:1183: DataConversionWarning: A column-vector y was passed when a 1d array was expected. Please change the shape of y to (n_samples, ), for example using ravel().\n",
      "  y = column_or_1d(y, warn=True)\n",
      "c:\\Users\\samra\\AppData\\Local\\Programs\\Python\\Python311\\Lib\\site-packages\\sklearn\\utils\\validation.py:1183: DataConversionWarning: A column-vector y was passed when a 1d array was expected. Please change the shape of y to (n_samples, ), for example using ravel().\n",
      "  y = column_or_1d(y, warn=True)\n",
      "c:\\Users\\samra\\AppData\\Local\\Programs\\Python\\Python311\\Lib\\site-packages\\sklearn\\utils\\validation.py:1183: DataConversionWarning: A column-vector y was passed when a 1d array was expected. Please change the shape of y to (n_samples, ), for example using ravel().\n",
      "  y = column_or_1d(y, warn=True)\n",
      "c:\\Users\\samra\\AppData\\Local\\Programs\\Python\\Python311\\Lib\\site-packages\\sklearn\\utils\\validation.py:1183: DataConversionWarning: A column-vector y was passed when a 1d array was expected. Please change the shape of y to (n_samples, ), for example using ravel().\n",
      "  y = column_or_1d(y, warn=True)\n",
      "c:\\Users\\samra\\AppData\\Local\\Programs\\Python\\Python311\\Lib\\site-packages\\sklearn\\utils\\validation.py:1183: DataConversionWarning: A column-vector y was passed when a 1d array was expected. Please change the shape of y to (n_samples, ), for example using ravel().\n",
      "  y = column_or_1d(y, warn=True)\n",
      "c:\\Users\\samra\\AppData\\Local\\Programs\\Python\\Python311\\Lib\\site-packages\\sklearn\\utils\\validation.py:1183: DataConversionWarning: A column-vector y was passed when a 1d array was expected. Please change the shape of y to (n_samples, ), for example using ravel().\n",
      "  y = column_or_1d(y, warn=True)\n",
      "c:\\Users\\samra\\AppData\\Local\\Programs\\Python\\Python311\\Lib\\site-packages\\sklearn\\utils\\validation.py:1183: DataConversionWarning: A column-vector y was passed when a 1d array was expected. Please change the shape of y to (n_samples, ), for example using ravel().\n",
      "  y = column_or_1d(y, warn=True)\n",
      "c:\\Users\\samra\\AppData\\Local\\Programs\\Python\\Python311\\Lib\\site-packages\\sklearn\\utils\\validation.py:1183: DataConversionWarning: A column-vector y was passed when a 1d array was expected. Please change the shape of y to (n_samples, ), for example using ravel().\n",
      "  y = column_or_1d(y, warn=True)\n",
      "c:\\Users\\samra\\AppData\\Local\\Programs\\Python\\Python311\\Lib\\site-packages\\sklearn\\utils\\validation.py:1183: DataConversionWarning: A column-vector y was passed when a 1d array was expected. Please change the shape of y to (n_samples, ), for example using ravel().\n",
      "  y = column_or_1d(y, warn=True)\n",
      "c:\\Users\\samra\\AppData\\Local\\Programs\\Python\\Python311\\Lib\\site-packages\\sklearn\\utils\\validation.py:1183: DataConversionWarning: A column-vector y was passed when a 1d array was expected. Please change the shape of y to (n_samples, ), for example using ravel().\n",
      "  y = column_or_1d(y, warn=True)\n",
      "c:\\Users\\samra\\AppData\\Local\\Programs\\Python\\Python311\\Lib\\site-packages\\sklearn\\utils\\validation.py:1183: DataConversionWarning: A column-vector y was passed when a 1d array was expected. Please change the shape of y to (n_samples, ), for example using ravel().\n",
      "  y = column_or_1d(y, warn=True)\n",
      "c:\\Users\\samra\\AppData\\Local\\Programs\\Python\\Python311\\Lib\\site-packages\\sklearn\\utils\\validation.py:1183: DataConversionWarning: A column-vector y was passed when a 1d array was expected. Please change the shape of y to (n_samples, ), for example using ravel().\n",
      "  y = column_or_1d(y, warn=True)\n",
      "c:\\Users\\samra\\AppData\\Local\\Programs\\Python\\Python311\\Lib\\site-packages\\sklearn\\utils\\validation.py:1183: DataConversionWarning: A column-vector y was passed when a 1d array was expected. Please change the shape of y to (n_samples, ), for example using ravel().\n",
      "  y = column_or_1d(y, warn=True)\n",
      "c:\\Users\\samra\\AppData\\Local\\Programs\\Python\\Python311\\Lib\\site-packages\\sklearn\\utils\\validation.py:1183: DataConversionWarning: A column-vector y was passed when a 1d array was expected. Please change the shape of y to (n_samples, ), for example using ravel().\n",
      "  y = column_or_1d(y, warn=True)\n"
     ]
    },
    {
     "name": "stdout",
     "output_type": "stream",
     "text": [
      "[0.18256302521008402, 0.18256302521008402, 0.9304621848739496, 0.9434873949579832, 0.9441176470588235]\n"
     ]
    }
   ],
   "source": [
    "c_accuracy_cross_validation = []\n",
    "c_accuracy_cross_validation.append(svm_cross_validation(0.00001))\n",
    "c_accuracy_cross_validation.append(svm_cross_validation(0.001))\n",
    "c_accuracy_cross_validation.append(svm_cross_validation(1.0))\n",
    "c_accuracy_cross_validation.append(svm_cross_validation(5.0))\n",
    "c_accuracy_cross_validation.append(svm_cross_validation(10.0))\n",
    "\n",
    "print(c_accuracy_cross_validation)"
   ]
  },
  {
   "cell_type": "code",
   "execution_count": 9,
   "id": "a88fff46",
   "metadata": {},
   "outputs": [],
   "source": [
    "def svm_validation(vx, vy, c):\n",
    "    guassian_model = SVC(kernel='rbf', C=c, gamma=0.001)\n",
    "    guassian_model.fit(x, y)\n",
    "    return accuracy(guassian_model.predict(vx), vy)"
   ]
  },
  {
   "cell_type": "code",
   "execution_count": 10,
   "id": "60c0e170",
   "metadata": {},
   "outputs": [
    {
     "name": "stderr",
     "output_type": "stream",
     "text": [
      "c:\\Users\\samra\\AppData\\Local\\Programs\\Python\\Python311\\Lib\\site-packages\\sklearn\\utils\\validation.py:1183: DataConversionWarning: A column-vector y was passed when a 1d array was expected. Please change the shape of y to (n_samples, ), for example using ravel().\n",
      "  y = column_or_1d(y, warn=True)\n",
      "c:\\Users\\samra\\AppData\\Local\\Programs\\Python\\Python311\\Lib\\site-packages\\sklearn\\utils\\validation.py:1183: DataConversionWarning: A column-vector y was passed when a 1d array was expected. Please change the shape of y to (n_samples, ), for example using ravel().\n",
      "  y = column_or_1d(y, warn=True)\n",
      "c:\\Users\\samra\\AppData\\Local\\Programs\\Python\\Python311\\Lib\\site-packages\\sklearn\\utils\\validation.py:1183: DataConversionWarning: A column-vector y was passed when a 1d array was expected. Please change the shape of y to (n_samples, ), for example using ravel().\n",
      "  y = column_or_1d(y, warn=True)\n",
      "c:\\Users\\samra\\AppData\\Local\\Programs\\Python\\Python311\\Lib\\site-packages\\sklearn\\utils\\validation.py:1183: DataConversionWarning: A column-vector y was passed when a 1d array was expected. Please change the shape of y to (n_samples, ), for example using ravel().\n",
      "  y = column_or_1d(y, warn=True)\n",
      "c:\\Users\\samra\\AppData\\Local\\Programs\\Python\\Python311\\Lib\\site-packages\\sklearn\\utils\\validation.py:1183: DataConversionWarning: A column-vector y was passed when a 1d array was expected. Please change the shape of y to (n_samples, ), for example using ravel().\n",
      "  y = column_or_1d(y, warn=True)\n"
     ]
    },
    {
     "name": "stdout",
     "output_type": "stream",
     "text": [
      "[0.885, 0.885, 0.9375, 0.9475, 0.955]\n"
     ]
    }
   ],
   "source": [
    "vclass0 = list()\n",
    "vpath0 = 'svm/val/1/'\n",
    "for image in Path(vpath0).glob('*.jpg'):\n",
    "    image_resized = np.array(Image.open(image).resize((16, 16))).flatten()/255\n",
    "    vclass0.append(image_resized)\n",
    "vlabel0 = np.array(vclass0) \n",
    "\n",
    "vclass1 = list()\n",
    "vpath1 = 'svm/val/2/'\n",
    "for image in Path(vpath1).glob('*.jpg'):\n",
    "    image_resized = np.array(Image.open(image).resize((16, 16))).flatten()/255\n",
    "    vclass1.append(image_resized)\n",
    "vlabel1 = np.array(vclass1)\n",
    "\n",
    "vy0 = np.full((vlabel0.shape[0], 1), fill_value=-1, dtype='double')\n",
    "vy1 = np.ones((vlabel1.shape[0], 1), dtype='double')\n",
    "vy = np.concatenate((vy0, vy1))\n",
    "\n",
    "vx = np.concatenate((vlabel0, vlabel1))\n",
    "\n",
    "c_accuracy_validation = []\n",
    "c_accuracy_validation.append(svm_validation(vx, vy, 0.00001))\n",
    "c_accuracy_validation.append(svm_validation(vx, vy, 0.001))\n",
    "c_accuracy_validation.append(svm_validation(vx, vy, 1.0))\n",
    "c_accuracy_validation.append(svm_validation(vx, vy, 5.0))\n",
    "c_accuracy_validation.append(svm_validation(vx, vy, 10.0))\n",
    "print(c_accuracy_validation)"
   ]
  },
  {
   "cell_type": "code",
   "execution_count": 11,
   "id": "6f33af47",
   "metadata": {},
   "outputs": [
    {
     "data": {
      "image/png": "[encoded data removed]",
      "text/plain": [
       "<Figure size 640x480 with 1 Axes>"
      ]
     },
     "metadata": {},
     "output_type": "display_data"
    }
   ],
   "source": [
    "plt.plot([math.log(0.00001, 10), math.log(0.001, 10), math.log(1.0, 10), math.log(5.0, 10), math.log(10.0, 10)],c_accuracy_cross_validation, [math.log(0.00001, 10), math.log(0.001, 10), math.log(1.0, 10), math.log(5.0, 10), math.log(10.0, 10)],c_accuracy_validation)\n",
    "plt.scatter([math.log(0.00001, 10), math.log(0.001, 10), math.log(1.0, 10), math.log(5.0, 10), math.log(10.0, 10)], c_accuracy_cross_validation, c='b')\n",
    "plt.scatter([math.log(0.00001, 10), math.log(0.001, 10), math.log(1.0, 10), math.log(5.0, 10), math.log(10.0, 10)], c_accuracy_validation, c='r')\n",
    "plt.show()"
   ]
  }
 ],
 "metadata": {
  "kernelspec": {
   "display_name": "Python 3 (ipykernel)",
   "language": "python",
   "name": "python3"
  },
  "language_info": {
   "codemirror_mode": {
    "name": "ipython",
    "version": 3
   },
   "file_extension": ".py",
   "mimetype": "text/x-python",
   "name": "python",
   "nbconvert_exporter": "python",
   "pygments_lexer": "ipython3",
   "version": "3.9.12"
  }
 },
 "nbformat": 4,
 "nbformat_minor": 5
}
