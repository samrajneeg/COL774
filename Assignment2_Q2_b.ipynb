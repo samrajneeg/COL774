{
 "cells": [
  {
   "cell_type": "code",
   "execution_count": 1,
   "id": "2cb81808",
   "metadata": {},
   "outputs": [],
   "source": [
    "import pandas as pd\n",
    "import numpy as np\n",
    "import math\n",
    "import time\n",
    "import random\n",
    "import re\n",
    "from PIL import Image\n",
    "import matplotlib.pyplot as plt\n",
    "from cvxopt import matrix\n",
    "from cvxopt import solvers\n",
    "from libsvm.svmutil import *\n",
    "from pathlib import Path"
   ]
  },
  {
   "cell_type": "code",
   "execution_count": 2,
   "id": "3bddb99a",
   "metadata": {},
   "outputs": [],
   "source": [
    "class0 = list()\n",
    "path0 = 'svm/train/1/'\n",
    "for image in Path(path0).glob('*.jpg'):\n",
    "    image_resized = np.array(Image.open(image).resize((16, 16))).flatten()/255\n",
    "    class0.append(image_resized)\n",
    "label0 = np.array(class0) \n",
    "\n",
    "class1 = list()\n",
    "path1 = 'svm/train/2/'\n",
    "for image in Path(path1).glob('*.jpg'):\n",
    "    image_resized = np.array(Image.open(image).resize((16, 16))).flatten()/255\n",
    "    class1.append(image_resized)\n",
    "label1 = np.array(class1) "
   ]
  },
  {
   "cell_type": "code",
   "execution_count": 3,
   "id": "d0a5250a",
   "metadata": {},
   "outputs": [],
   "source": [
    "y0 = np.full((2380, 1), fill_value=-1, dtype='double')\n",
    "y1 = np.ones((2380, 1), dtype='double')\n",
    "y = np.concatenate((y0, y1))\n",
    "\n",
    "x = np.concatenate((label0, label1))"
   ]
  },
  {
   "cell_type": "code",
   "execution_count": 25,
   "id": "01a08322",
   "metadata": {},
   "outputs": [
    {
     "name": "stdout",
     "output_type": "stream",
     "text": [
      "[[ 1.          0.99319536  0.99438674 ... -0.98317011 -0.98697999\n",
      "  -0.99052009]\n",
      " [ 0.99319536  1.          0.99565152 ... -0.98581907 -0.98984812\n",
      "  -0.99343056]\n",
      " [ 0.99438674  0.99565152  1.         ... -0.9861354  -0.99011472\n",
      "  -0.9937526 ]\n",
      " ...\n",
      " [-0.98317011 -0.98581907 -0.9861354  ...  1.          0.99109502\n",
      "   0.98918021]\n",
      " [-0.98697999 -0.98984812 -0.99011472 ...  0.99109502  1.\n",
      "   0.99315141]\n",
      " [-0.99052009 -0.99343056 -0.9937526  ...  0.98918021  0.99315141\n",
      "   1.        ]]\n",
      "[[-1.]\n",
      " [-1.]\n",
      " [-1.]\n",
      " ...\n",
      " [-1.]\n",
      " [-1.]\n",
      " [-1.]]\n",
      "[[ 1.  0.  0. ...  0.  0.  0.]\n",
      " [ 0.  1.  0. ...  0.  0.  0.]\n",
      " [ 0.  0.  1. ...  0.  0.  0.]\n",
      " ...\n",
      " [-0. -0. -0. ... -1. -0. -0.]\n",
      " [-0. -0. -0. ... -0. -1. -0.]\n",
      " [-0. -0. -0. ... -0. -0. -1.]]\n",
      "[[1.]\n",
      " [1.]\n",
      " [1.]\n",
      " ...\n",
      " [0.]\n",
      " [0.]\n",
      " [0.]]\n",
      "[[-1. -1. -1. ...  1.  1.  1.]]\n",
      "[[0.]]\n"
     ]
    }
   ],
   "source": [
    "\"\"\"def norm_square(x, z):\n",
    "    s = 0\n",
    "    for i in range(0, x.shape[0]):\n",
    "        s += abs(x[i]-z[i])**2\n",
    "    return math.sqrt(s)\"\"\"\n",
    "\n",
    "P = np.empty((4760, 4760), dtype='double')\n",
    "gamma = 0.001\n",
    "for i in range(0, 4760):\n",
    "    for j in range(0, 4760):\n",
    "        P[i][j] = y[i][0]*y[j][0]*np.exp(-gamma * np.linalg.norm(np.asarray(x[i])-np.asarray(x[j])))\n",
    "\n",
    "q = np.full((4760, 1), fill_value=-1, dtype='double')\n",
    "c = 1\n",
    "G = np.concatenate((np.identity(4760, dtype='double'), np.identity(4760, dtype='double')*(-1)))\n",
    "h = np.concatenate((np.full((4760, 1), fill_value=c, dtype='double'), np.zeros((4760, 1), dtype='double')))\n",
    "A = y.reshape((1, 4760))\n",
    "b = np.zeros((1,1), dtype='double')\n",
    "\n",
    "print(P)\n",
    "print(q)\n",
    "print(G)\n",
    "print(h)\n",
    "print(A)\n",
    "print(b)"
   ]
  },
  {
   "cell_type": "code",
   "execution_count": 26,
   "id": "6f1608cb",
   "metadata": {},
   "outputs": [
    {
     "name": "stdout",
     "output_type": "stream",
     "text": [
      "     pcost       dcost       gap    pres   dres\n",
      " 0: -1.4242e+03 -1.2123e+04  6e+04  3e+00  7e-13\n",
      " 1: -9.2384e+02 -7.9146e+03  7e+03  2e-02  9e-13\n",
      " 2: -1.1932e+03 -2.1790e+03  1e+03  3e-03  8e-13\n",
      " 3: -1.4109e+03 -1.7887e+03  4e+02  9e-04  8e-13\n",
      " 4: -1.4938e+03 -1.6582e+03  2e+02  3e-04  8e-13\n",
      " 5: -1.5291e+03 -1.6065e+03  8e+01  1e-04  8e-13\n",
      " 6: -1.5480e+03 -1.5797e+03  3e+01  5e-05  8e-13\n",
      " 7: -1.5559e+03 -1.5688e+03  1e+01  2e-05  8e-13\n",
      " 8: -1.5602e+03 -1.5632e+03  3e+00  3e-06  8e-13\n",
      " 9: -1.5614e+03 -1.5618e+03  4e-01  2e-07  9e-13\n",
      "10: -1.5616e+03 -1.5616e+03  9e-03  4e-09  9e-13\n",
      "11: -1.5616e+03 -1.5616e+03  2e-04  7e-11  9e-13\n",
      "Optimal solution found.\n"
     ]
    }
   ],
   "source": [
    "sol = solvers.qp(matrix(P), matrix(q), matrix(G), matrix(h), matrix(A), matrix(b))"
   ]
  },
  {
   "cell_type": "code",
   "execution_count": 27,
   "id": "3f0dd553",
   "metadata": {},
   "outputs": [
    {
     "name": "stdout",
     "output_type": "stream",
     "text": [
      "(2704,)\n"
     ]
    }
   ],
   "source": [
    "optimal_alpha = np.array(sol['x'])\n",
    "print(optimal_alpha[optimal_alpha<0.0001].shape)"
   ]
  },
  {
   "cell_type": "code",
   "execution_count": 28,
   "id": "649911b1",
   "metadata": {},
   "outputs": [
    {
     "name": "stdout",
     "output_type": "stream",
     "text": [
      "2056\n",
      "0.4319327731092437\n"
     ]
    }
   ],
   "source": [
    "alpha = np.where(optimal_alpha<0.0001, 0, optimal_alpha)\n",
    "print(np.count_nonzero(alpha))\n",
    "print(np.count_nonzero(alpha)/4760)"
   ]
  },
  {
   "cell_type": "code",
   "execution_count": 29,
   "id": "3b096046",
   "metadata": {},
   "outputs": [
    {
     "name": "stdout",
     "output_type": "stream",
     "text": [
      "629 [2054, 4105, 4106, 2061, 4109, 18, 2067, 2069, 4119, 2072, 23, 24, 25, 2074, 28, 31, 2080, 35, 4133, 2090, 43, 2096, 50, 2100, 2102, 56, 57, 2107, 4156, 4159, 68, 2119, 72, 4172, 2128, 81, 4177, 85, 2133, 4184, 4189, 4190, 96, 110, 2158, 113, 4216, 2169, 2172, 125, 129, 2179, 4231, 4232, 140, 146, 147, 4242, 4243, 4248, 153, 2202, 157, 167, 169, 2226, 181, 187, 2235, 2236, 4290, 203, 2251, 206, 4311, 2264, 2271, 4322, 2278, 2279, 4331, 4333, 2290, 246, 2296, 249, 4345, 4349, 255, 4351, 2307, 260, 2310, 4363, 4364, 272, 2322, 275, 277, 2325, 4374, 2329, 282, 2331, 4377, 4384, 4390, 2343, 4393, 299, 2347, 4401, 307, 2356, 4406, 4410, 2367, 4415, 2369, 4420, 325, 2374, 2377, 2381, 4429, 4432, 4433, 4442, 4455, 2409, 364, 2412, 2414, 4463, 2417, 4474, 2428, 381, 382, 2429, 2432, 2433, 387, 4483, 2439, 2441, 2443, 396, 4494, 402, 4499, 2453, 4501, 2456, 2461, 4512, 418, 419, 2467, 421, 2469, 4519, 4520, 4524, 2481, 435, 2483, 438, 439, 2497, 4545, 453, 454, 456, 2504, 2505, 2506, 2507, 4554, 4559, 2515, 2520, 4568, 474, 4569, 486, 2536, 491, 2542, 4591, 497, 2552, 511, 516, 2565, 518, 523, 4620, 4621, 2575, 2576, 4632, 538, 545, 2595, 4646, 2599, 552, 553, 2609, 562, 4659, 566, 569, 2617, 571, 2624, 2629, 2631, 4683, 588, 2636, 4685, 591, 4687, 4690, 2643, 598, 2649, 2650, 605, 4702, 2655, 2659, 4707, 615, 2664, 4711, 621, 2672, 629, 631, 635, 2687, 640, 2688, 4740, 2694, 2697, 650, 651, 2698, 4745, 4746, 2707, 2713, 2721, 2736, 689, 690, 697, 2748, 701, 705, 2755, 2775, 740, 747, 2795, 750, 2802, 755, 2818, 774, 2822, 787, 2836, 791, 796, 2852, 2859, 2862, 817, 821, 822, 826, 830, 2880, 839, 2888, 2898, 2901, 2910, 2911, 865, 866, 2921, 874, 2923, 2924, 877, 880, 2932, 2933, 888, 891, 893, 2945, 901, 2949, 904, 908, 913, 916, 917, 2969, 922, 926, 927, 2977, 2979, 933, 937, 939, 2989, 2992, 946, 2995, 2998, 960, 963, 3012, 965, 3016, 3018, 971, 972, 973, 3020, 3025, 3026, 3032, 987, 3040, 3041, 3042, 3045, 999, 3053, 3058, 1014, 3066, 1020, 3068, 3069, 3081, 3082, 3087, 1040, 3092, 1045, 3093, 1052, 1064, 3120, 3124, 3129, 3130, 3141, 1094, 3142, 1096, 1098, 1103, 1106, 3154, 1109, 1111, 3162, 1119, 3168, 3172, 3176, 1129, 3182, 3184, 1140, 3188, 1151, 1155, 1163, 1172, 3224, 1178, 1182, 1183, 3231, 3232, 1186, 1188, 3239, 1207, 3258, 3277, 1233, 3283, 1237, 3288, 1242, 3293, 3295, 1251, 1255, 3303, 3304, 1261, 1267, 1269, 1270, 1272, 1275, 1277, 3326, 1302, 1305, 3353, 3355, 1309, 3357, 3359, 1312, 3366, 3367, 3371, 1329, 1331, 1338, 3389, 3400, 3403, 3406, 3408, 3414, 3415, 1368, 3417, 1370, 3436, 3440, 1394, 1395, 3449, 3454, 3459, 3464, 1418, 3474, 1427, 1429, 1436, 3486, 1441, 1445, 1446, 3496, 1452, 3502, 1456, 3510, 1465, 3518, 1475, 1480, 1490, 1491, 3539, 3545, 3548, 3552, 1506, 3560, 1515, 3566, 1521, 1522, 1523, 3574, 1529, 3580, 3582, 3585, 1541, 1543, 1551, 1556, 1557, 1558, 3608, 1563, 1565, 3629, 3636, 3639, 3640, 1596, 1598, 1601, 1603, 3651, 1606, 1612, 1614, 3675, 1631, 3683, 1640, 1641, 1653, 3701, 1656, 3704, 3705, 3710, 1663, 3711, 1665, 1666, 3720, 3723, 1678, 3726, 3728, 1681, 3732, 3734, 1691, 3741, 1695, 3744, 3745, 1698, 3747, 3753, 1709, 1714, 1715, 3762, 3766, 1719, 1725, 3775, 3777, 3780, 1738, 3792, 1745, 3797, 1752, 1753, 3802, 1757, 1761, 1771, 1773, 1779, 3830, 1789, 1799, 3847, 1804, 3852, 1808, 3859, 1815, 1816, 3868, 1825, 3882, 1838, 1842, 3893, 3894, 1854, 3902, 3903, 1857, 1863, 1871, 3920, 1874, 1876, 3940, 1897, 3947, 3948, 3950, 3952, 1908, 3958, 1914, 3966, 3971, 1927, 3978, 1939, 1942, 3991, 3992, 1955, 4005, 4013, 1972, 4020, 4022, 1977, 4025, 4039, 1995, 2000, 4058, 4062, 2021, 4070, 2026, 2038, 4087, 4088, 4092, 2046]\n"
     ]
    }
   ],
   "source": [
    "linear_sv = [18,   23,   24,   25,   28,   31,   35,   43,   50,   56,   57,\n",
    "         68,   72,   81,   85,   96,  102,  110,  113,  125,  129,  140,\n",
    "        146,  147,  153,  155,  157,  167,  169,  181,  187,  203,  204,\n",
    "        206,  246,  249,  255,  260,  272,  275,  277,  282,  284,  299,\n",
    "        307,  325,  364,  381,  382,  387,  396,  402,  418,  419,  421,\n",
    "        435,  438,  439,  453,  454,  456,  458,  474,  486,  491,  497,\n",
    "        511,  516,  518,  523,  538,  545,  552,  553,  562,  566,  569,\n",
    "        571,  588,  591,  598,  605,  615,  621,  629,  631,  635,  640,\n",
    "        650,  651,  689,  690,  697,  701,  705,  740,  747,  750,  755,\n",
    "        774,  787,  791,  796,  817,  821,  822,  826,  830,  839,  865,\n",
    "        866,  874,  877,  880,  888,  891,  892,  893,  901,  904,  905,\n",
    "        908,  913,  916,  917,  922,  926,  927,  933,  937,  939,  946,\n",
    "        960,  963,  965,  971,  972,  973,  987,  999, 1014, 1020, 1040,\n",
    "       1045, 1052, 1064, 1094, 1096, 1098, 1103, 1106, 1109, 1111, 1119,\n",
    "       1129, 1140, 1151, 1155, 1163, 1172, 1178, 1182, 1183, 1186, 1188,\n",
    "       1207, 1233, 1237, 1242, 1247, 1248, 1251, 1255, 1261, 1267, 1269,\n",
    "       1270, 1272, 1275, 1277, 1302, 1305, 1309, 1312, 1329, 1331, 1338,\n",
    "       1351, 1368, 1370, 1394, 1395, 1418, 1427, 1429, 1436, 1441, 1445,\n",
    "       1446, 1452, 1456, 1465, 1475, 1480, 1490, 1491, 1506, 1515, 1521,\n",
    "       1522, 1523, 1529, 1537, 1541, 1543, 1551, 1556, 1557, 1558, 1563,\n",
    "       1565, 1583, 1596, 1598, 1601, 1603, 1606, 1612, 1614, 1631, 1640,\n",
    "       1641, 1653, 1656, 1663, 1665, 1666, 1678, 1681, 1691, 1695, 1698,\n",
    "       1709, 1714, 1715, 1719, 1725, 1738, 1745, 1752, 1753, 1757, 1761,\n",
    "       1771, 1773, 1779, 1789, 1799, 1804, 1808, 1815, 1816, 1825, 1838,\n",
    "       1842, 1854, 1857, 1863, 1871, 1874, 1876, 1897, 1908, 1911, 1914,\n",
    "       1927, 1939, 1942, 1955, 1972, 1977, 1995, 2000, 2021, 2026, 2038,\n",
    "       2046, 2054, 2061, 2067, 2069, 2072, 2074, 2080, 2090, 2096, 2100,\n",
    "       2102, 2107, 2117, 2119, 2128, 2133, 2158, 2169, 2172, 2179, 2202,\n",
    "       2226, 2235, 2236, 2251, 2259, 2264, 2271, 2278, 2279, 2290, 2296,\n",
    "       2307, 2310, 2322, 2325, 2329, 2331, 2343, 2347, 2356, 2367, 2369,\n",
    "       2374, 2377, 2381, 2398, 2409, 2410, 2412, 2414, 2417, 2428, 2429,\n",
    "       2432, 2433, 2439, 2441, 2443, 2453, 2456, 2461, 2467, 2469, 2481,\n",
    "       2483, 2497, 2504, 2505, 2506, 2507, 2515, 2520, 2536, 2542, 2552,\n",
    "       2565, 2575, 2576, 2595, 2599, 2609, 2617, 2624, 2629, 2631, 2636,\n",
    "       2641, 2643, 2649, 2650, 2655, 2659, 2664, 2672, 2687, 2688, 2694,\n",
    "       2697, 2698, 2707, 2713, 2721, 2736, 2748, 2750, 2752, 2755, 2775,\n",
    "       2795, 2802, 2818, 2822, 2836, 2852, 2859, 2862, 2867, 2880, 2887,\n",
    "       2888, 2898, 2901, 2910, 2911, 2921, 2923, 2924, 2932, 2933, 2945,\n",
    "       2949, 2960, 2969, 2977, 2979, 2989, 2992, 2995, 2998, 3012, 3016,\n",
    "       3018, 3020, 3025, 3026, 3032, 3040, 3041, 3042, 3045, 3053, 3058,\n",
    "       3066, 3068, 3069, 3081, 3082, 3087, 3092, 3093, 3120, 3124, 3129,\n",
    "       3130, 3141, 3142, 3154, 3162, 3168, 3172, 3176, 3182, 3184, 3187,\n",
    "       3188, 3199, 3224, 3231, 3232, 3239, 3258, 3265, 3277, 3283, 3288,\n",
    "       3293, 3294, 3295, 3303, 3304, 3326, 3353, 3355, 3357, 3359, 3366,\n",
    "       3367, 3371, 3389, 3400, 3403, 3406, 3408, 3414, 3415, 3417, 3436,\n",
    "       3440, 3449, 3454, 3459, 3464, 3474, 3486, 3496, 3502, 3510, 3512,\n",
    "       3518, 3539, 3545, 3548, 3552, 3560, 3566, 3574, 3580, 3582, 3585,\n",
    "       3608, 3629, 3636, 3639, 3640, 3651, 3671, 3675, 3676, 3682, 3683,\n",
    "       3701, 3704, 3705, 3710, 3711, 3720, 3723, 3726, 3728, 3732, 3734,\n",
    "       3741, 3744, 3745, 3747, 3753, 3762, 3766, 3775, 3777, 3780, 3792,\n",
    "       3797, 3802, 3830, 3839, 3847, 3852, 3859, 3868, 3882, 3893, 3894,\n",
    "       3902, 3903, 3920, 3929, 3940, 3947, 3948, 3950, 3952, 3958, 3966,\n",
    "       3971, 3978, 3991, 3992, 4005, 4013, 4020, 4022, 4025, 4039, 4058,\n",
    "       4062, 4070, 4087, 4088, 4092, 4105, 4106, 4109, 4119, 4133, 4156,\n",
    "       4159, 4172, 4175, 4177, 4184, 4189, 4190, 4216, 4231, 4232, 4242,\n",
    "       4243, 4248, 4277, 4290, 4311, 4322, 4331, 4333, 4345, 4349, 4351,\n",
    "       4363, 4364, 4374, 4377, 4384, 4390, 4393, 4401, 4406, 4410, 4415,\n",
    "       4420, 4429, 4432, 4433, 4442, 4455, 4463, 4474, 4483, 4488, 4494,\n",
    "       4499, 4501, 4512, 4519, 4520, 4524, 4545, 4554, 4556, 4559, 4568,\n",
    "       4569, 4591, 4604, 4620, 4621, 4632, 4640, 4646, 4650, 4653, 4659,\n",
    "       4683, 4685, 4687, 4690, 4702, 4707, 4711, 4740, 4745, 4746]\n",
    "\n",
    "temp_arr = alpha\n",
    "gaussian_sv = np.asarray(temp_arr.reshape(4760, )!=0).nonzero()\n",
    "\n",
    "intersection = list(set(linear_sv) & set(gaussian_sv[0].tolist()))\n",
    "print(len(intersection), intersection)"
   ]
  },
  {
   "cell_type": "code",
   "execution_count": 30,
   "id": "cd66fafd",
   "metadata": {},
   "outputs": [
    {
     "name": "stdout",
     "output_type": "stream",
     "text": [
      "[-2.22369495 -1.62371126 -1.47503038 ...  1.14443094  0.76966608\n",
      " -0.10058142]\n"
     ]
    }
   ],
   "source": [
    "temp = np.empty((4760, 4760))\n",
    "for i in range(0, 4760):\n",
    "    for j in range(0, 4760):\n",
    "        temp[i][j] = alpha[i][0]*y[i][0]*np.exp(-gamma * np.linalg.norm(np.asarray(x[i])-np.asarray(x[j])))\n",
    "train_wTx = np.asarray(np.sum(temp, axis=0))\n",
    "print(train_wTx)"
   ]
  },
  {
   "cell_type": "code",
   "execution_count": 31,
   "id": "b912c3a8",
   "metadata": {},
   "outputs": [
    {
     "name": "stdout",
     "output_type": "stream",
     "text": [
      "0.6123918236040404\n"
     ]
    }
   ],
   "source": [
    "all_b = train_wTx.reshape((4760, 1))\n",
    "b = -0.5*(np.max(all_b[np.where(y==-1) and np.where(alpha!=0)], axis=0) + np.min(all_b[np.where(y==1) and np.where(alpha!=0)], axis=0))\n",
    "print(b)"
   ]
  },
  {
   "cell_type": "code",
   "execution_count": 32,
   "id": "d7f28128",
   "metadata": {},
   "outputs": [
    {
     "name": "stdout",
     "output_type": "stream",
     "text": [
      "[-2.02428543e+00 -2.06968203e+00 -9.09594237e-01  4.79334762e-01\n",
      " -8.29841661e-01 -7.48966606e-01 -2.11957127e+00 -1.97385962e+00\n",
      " -1.11370788e+00 -1.12310313e-01 -2.16623654e+00 -8.67793744e-01\n",
      " -2.19242669e+00 -1.91286057e+00 -1.64218046e+00 -7.03894496e-02\n",
      " -1.49945122e+00 -1.94263813e+00 -9.76784355e-01 -2.26537723e+00\n",
      " -1.89623073e+00 -2.18308175e+00 -1.32600511e+00 -4.26367914e-01\n",
      " -2.01652612e+00 -2.02986989e+00 -1.77131552e+00 -2.23308646e+00\n",
      " -1.42545513e+00 -1.14292582e+00 -1.62593975e+00 -1.73427695e+00\n",
      " -1.71419039e+00 -1.92350609e+00 -2.11041218e+00 -1.84929250e+00\n",
      " -2.11079051e+00 -1.75082242e+00 -1.94354446e+00 -2.21076304e+00\n",
      " -6.41500923e-01 -1.76137136e+00 -1.58131536e+00 -6.47830953e-01\n",
      " -1.37535869e+00 -2.02909236e+00 -2.24903854e+00 -1.87486868e+00\n",
      " -1.73823710e+00 -2.10531533e+00 -1.28183219e+00 -2.42373802e+00\n",
      " -7.66559987e-01 -3.50164129e-01 -2.02533192e+00 -1.42510618e+00\n",
      " -1.91744669e+00 -9.89602403e-01 -2.24090554e+00 -1.15082856e+00\n",
      " -1.68101029e+00 -1.58188105e+00 -1.93649546e+00 -1.94188806e+00\n",
      " -2.07927435e+00 -8.60994386e-01 -9.39326762e-01 -1.50867435e+00\n",
      " -1.97350960e+00 -2.02699651e+00 -9.24269628e-01 -2.05253783e+00\n",
      " -8.51724727e-01 -1.70169020e+00 -1.00444755e+00 -1.50477533e+00\n",
      " -2.04795826e+00 -2.13361483e+00 -2.08801992e+00 -1.53996000e+00\n",
      " -1.62547293e+00 -3.46734221e-01 -1.76523699e+00 -2.04651622e+00\n",
      " -1.97266514e+00 -1.68650278e+00 -1.81702505e+00 -1.73322178e+00\n",
      " -1.65712122e+00 -2.31497976e+00 -1.35590688e+00 -2.09875725e+00\n",
      "  1.03994779e-01 -2.17960791e+00 -1.67038171e+00 -2.01746534e+00\n",
      " -1.95568520e+00 -1.55111455e+00 -2.09534281e+00 -1.56616334e+00\n",
      " -2.06546084e+00 -1.53571345e+00 -1.69730382e+00 -1.63806300e+00\n",
      " -6.58002949e-02 -2.28923826e+00 -2.19314235e+00 -1.11012360e+00\n",
      " -1.29048348e+00 -4.86427174e-01 -1.73061298e+00 -2.02492603e+00\n",
      " -9.33724592e-01 -2.17663961e+00 -2.28870099e+00 -1.50699410e+00\n",
      " -1.89084257e+00 -1.88715395e+00 -1.88723394e+00 -1.66408919e+00\n",
      " -2.15709215e+00 -1.30952603e+00 -1.98931583e+00 -7.87911811e-01\n",
      " -2.34337875e+00 -1.80553154e+00 -1.43026916e+00 -1.20013600e+00\n",
      " -1.42999267e+00 -1.95600402e+00  1.66610735e-01 -2.16638487e+00\n",
      " -1.98763986e+00 -2.02476378e+00 -1.83782585e+00 -7.46105005e-01\n",
      " -1.52349222e+00 -2.13642098e+00 -1.55305331e+00 -1.81131782e+00\n",
      " -2.03454656e+00 -2.08404441e+00 -1.52699905e+00 -2.05519806e+00\n",
      " -1.84257546e+00 -1.27197991e+00 -1.95019679e+00 -4.57787266e-01\n",
      " -1.54579939e+00 -1.72837768e+00 -1.42291649e+00 -4.99058723e-01\n",
      " -1.43128262e+00 -1.39321888e+00 -2.89146320e-01 -1.93085030e+00\n",
      " -2.01802430e+00 -2.12553270e+00 -2.12810745e+00 -1.68734592e+00\n",
      " -2.05387739e+00 -1.03841601e-01 -7.42713302e-01 -1.75745964e+00\n",
      " -9.79202768e-01 -2.17186732e+00 -2.41621897e+00 -1.51047616e+00\n",
      " -2.08937972e+00 -1.46030018e+00 -1.64707616e+00 -1.26318957e+00\n",
      " -2.40303751e-01 -1.23832725e+00 -1.64267806e+00 -1.96476767e+00\n",
      " -1.80131815e+00 -1.26779991e-01 -1.91435641e+00 -1.37719895e+00\n",
      " -8.59546381e-01 -2.26845873e+00 -1.01332261e+00 -1.06541821e+00\n",
      " -2.00193960e+00 -2.20243417e+00 -2.17346254e+00 -1.59723145e+00\n",
      " -1.17813897e+00 -1.10128727e+00 -1.78329514e+00 -1.99713128e+00\n",
      " -1.78792401e+00 -2.99737071e-01 -2.11924852e+00 -2.03740121e+00\n",
      " -1.53994325e+00 -4.74391691e-01 -1.61698590e+00 -2.02624072e+00\n",
      " -5.64176442e-01  2.03020567e-01  1.23958247e-01 -3.33264349e-01\n",
      "  1.22439259e+00 -7.32590490e-01  2.20708457e-01 -5.75799674e-01\n",
      "  4.40133936e-01 -3.96362233e-01  4.64540760e-01 -1.45476387e-01\n",
      "  8.34580712e-01  2.83366439e-02  1.64407951e-01  7.40421320e-01\n",
      "  4.68862054e-01  1.57497343e-01  3.61379802e-01  3.43529345e-01\n",
      "  6.33827804e-01  2.76434814e-01  2.71925948e-01 -8.94689430e-02\n",
      "  1.07614163e+00  1.18987510e+00  6.01919806e-01  1.08171094e-03\n",
      "  6.30528849e-01  4.75683703e-01 -4.84975629e-01 -2.88729052e-01\n",
      "  1.00610520e+00  7.65261525e-01  4.02219635e-01 -1.73717257e+00\n",
      "  5.38683560e-02  1.36001228e-01  8.39859986e-01  1.23712511e-01\n",
      "  1.02656491e+00  1.07800998e+00  9.09759128e-01  9.62383102e-01\n",
      " -8.16084759e-01 -4.71046242e-02  7.31034162e-01 -1.53042155e+00\n",
      "  5.52154320e-01  7.49975137e-01  3.19904234e-01  5.30623710e-02\n",
      "  6.96291669e-01  4.69348637e-01  2.68507890e-01  7.51421109e-01\n",
      "  1.10135331e+00  3.21181224e-02  3.88185718e-01  5.82438203e-01\n",
      "  4.42319814e-01  6.90828525e-01 -2.23560028e-01  5.20598030e-01\n",
      "  4.88211273e-01 -4.12399801e-01 -8.71616782e-01  2.86934902e-01\n",
      "  6.87039105e-01  1.79238175e-01  1.01981712e-01  5.80490688e-01\n",
      "  9.69947664e-01  5.97976878e-01  2.50444902e-01  3.82386641e-01\n",
      "  1.08882690e+00  5.53011703e-01  4.55878638e-01  1.16002825e-01\n",
      "  7.78611721e-01  1.30783528e-02 -5.81130865e-01  3.88203962e-01\n",
      "  1.06371011e+00 -5.06677038e-02  7.52640632e-01  7.86255202e-01\n",
      " -9.04794744e-02 -8.03842637e-01  6.99449262e-01  6.96086564e-01\n",
      "  7.14720961e-01  5.69125796e-01  5.11434241e-01  7.40527037e-02\n",
      "  7.54908819e-01  3.61565387e-01  5.11293506e-01  1.66407890e-01\n",
      "  5.28503401e-01 -4.83801918e-01 -1.42216294e-03  1.65451437e-01\n",
      "  1.06288711e+00  4.19254897e-01 -1.66972682e-01  2.90635329e-01\n",
      "  2.53201944e-01  1.32172807e+00  6.70798714e-01  7.68739590e-01\n",
      "  7.42079598e-01  4.04466045e-01  6.10964618e-01  3.63465462e-01\n",
      " -1.48028764e+00  4.37247003e-01  3.97828095e-01  9.11692804e-01\n",
      "  7.16342614e-01  3.03648610e-01  2.20981286e-01  2.46623416e-01\n",
      " -7.18234199e-01 -6.53134764e-01  1.22556194e-01  4.28745482e-01\n",
      "  9.04471388e-01 -6.90539090e-01 -7.25096171e-01  8.82646114e-01\n",
      "  6.03143610e-01 -3.74448664e-01 -2.77074980e-01  7.30233854e-01\n",
      "  6.24227822e-01  3.67932446e-02  5.44905204e-01  6.29721736e-01\n",
      "  5.52141683e-02  1.11619962e+00 -6.76567890e-01  7.89328283e-01\n",
      " -4.45601731e-01  9.96499570e-02  6.22257093e-01 -8.68891562e-01\n",
      "  3.21814441e-01  4.44707859e-02  5.49566836e-01  4.02526063e-01\n",
      "  9.18860266e-01  3.17146686e-01 -6.03842416e-02  7.18121624e-01\n",
      "  3.70889421e-01  3.41139790e-01  3.81214180e-01  2.57777069e-01\n",
      "  4.77900789e-01  4.81766572e-01  6.65103215e-01 -3.47406617e-01\n",
      "  9.09724090e-01 -1.50188223e+00  8.52910661e-01  6.48681234e-01\n",
      " -1.19635063e-01 -1.05588474e+00  9.47703193e-01  5.61914088e-01\n",
      "  7.02090803e-02  6.13682824e-01  1.38947939e-01  5.54762512e-01\n",
      " -6.79412451e-01  5.29333792e-01  5.19716295e-01  6.25852811e-01\n",
      "  2.72005198e-01  2.53802714e-01  8.37654133e-01 -1.30831180e-02\n",
      "  6.41729917e-01  3.86669535e-01  1.04766805e+00  3.30994924e-01\n",
      "  5.76216369e-01  3.07615200e-01 -2.32081028e-01  1.06002825e+00\n",
      " -4.47181468e-03  3.24323425e-01  3.51552119e-01  4.61515985e-01\n",
      "  1.25735270e+00  7.34055593e-01  2.85407684e-01 -2.60239234e-01]\n"
     ]
    }
   ],
   "source": [
    "vclass0 = list()\n",
    "vpath0 = 'svm/val/1/'\n",
    "for image in Path(vpath0).glob('*.jpg'):\n",
    "    image_resized = np.array(Image.open(image).resize((16, 16))).flatten()/255\n",
    "    vclass0.append(image_resized)\n",
    "vlabel0 = np.array(vclass0) \n",
    "\n",
    "vclass1 = list()\n",
    "vpath1 = 'svm/val/2/'\n",
    "for image in Path(vpath1).glob('*.jpg'):\n",
    "    image_resized = np.array(Image.open(image).resize((16, 16))).flatten()/255\n",
    "    vclass1.append(image_resized)\n",
    "vlabel1 = np.array(vclass1)\n",
    "\n",
    "vy0 = np.full((vlabel0.shape[0], 1), fill_value=-1, dtype='double')\n",
    "vy1 = np.ones((vlabel1.shape[0], 1), dtype='double')\n",
    "vy = np.concatenate((vy0, vy1))\n",
    "\n",
    "vx = np.concatenate((vlabel0, vlabel1))\n",
    "\n",
    "vtemp = np.empty((x.shape[0], vx.shape[0]))\n",
    "for i in range(0, x.shape[0]):\n",
    "    for j in range(0, vx.shape[0]):\n",
    "        vtemp[i][j] = alpha[i][0]*y[i][0]*np.exp(-gamma * np.linalg.norm(np.asarray(x[i])-np.asarray(vx[j])))\n",
    "valid_wTx = np.asarray(np.sum(vtemp, axis=0))\n",
    "print(valid_wTx)"
   ]
  },
  {
   "cell_type": "code",
   "execution_count": 33,
   "id": "8214ac2c",
   "metadata": {},
   "outputs": [
    {
     "name": "stdout",
     "output_type": "stream",
     "text": [
      "0.915\n"
     ]
    }
   ],
   "source": [
    "y_pred = list()\n",
    "for i in range(0, vy.shape[0]):\n",
    "    val = 1 if(valid_wTx[i] + b)>0 else (-1)\n",
    "    y_pred.append(val)\n",
    "\n",
    "count = 0\n",
    "for i in range(0, vy.shape[0]):\n",
    "    count = count+1 if(vy[i][0]==y_pred[i]) else count\n",
    "accuracy = count/len(y_pred)\n",
    "print(accuracy)"
   ]
  },
  {
   "cell_type": "code",
   "execution_count": 34,
   "id": "e21cab26",
   "metadata": {},
   "outputs": [
    {
     "name": "stdout",
     "output_type": "stream",
     "text": [
      "svm/train/1/10007.jpg\n"
     ]
    },
    {
     "data": {
      "image/png": "[encoded data removed]",
      "text/plain": [
       "<Figure size 640x480 with 1 Axes>"
      ]
     },
     "metadata": {},
     "output_type": "display_data"
    },
    {
     "name": "stdout",
     "output_type": "stream",
     "text": [
      "svm/train/2/12425.jpg\n"
     ]
    },
    {
     "data": {
      "image/png": "[encoded data removed]",
      "text/plain": [
       "<Figure size 640x480 with 1 Axes>"
      ]
     },
     "metadata": {},
     "output_type": "display_data"
    },
    {
     "name": "stdout",
     "output_type": "stream",
     "text": [
      "svm/train/2/1243.jpg\n"
     ]
    },
    {
     "data": {
      "image/png": "[encoded data removed]",
      "text/plain": [
       "<Figure size 640x480 with 1 Axes>"
      ]
     },
     "metadata": {},
     "output_type": "display_data"
    },
    {
     "name": "stdout",
     "output_type": "stream",
     "text": [
      "svm/train/2/12473.jpg\n"
     ]
    },
    {
     "data": {
      "image/png": "[encoded data removed]",
      "text/plain": [
       "<Figure size 640x480 with 1 Axes>"
      ]
     },
     "metadata": {},
     "output_type": "display_data"
    },
    {
     "name": "stdout",
     "output_type": "stream",
     "text": [
      "svm/train/2/12478.jpg\n"
     ]
    },
    {
     "data": {
      "image/png": "[encoded data removed]",
      "text/plain": [
       "<Figure size 640x480 with 1 Axes>"
      ]
     },
     "metadata": {},
     "output_type": "display_data"
    },
    {
     "name": "stdout",
     "output_type": "stream",
     "text": [
      "svm/train/2/12482.jpg\n"
     ]
    },
    {
     "data": {
      "image/png": "[encoded data removed]",
      "text/plain": [
       "<Figure size 640x480 with 1 Axes>"
      ]
     },
     "metadata": {},
     "output_type": "display_data"
    }
   ],
   "source": [
    "image_names = list()\n",
    "path0 = 'svm/train/1/'\n",
    "for image in Path(path0).glob('*.jpg'):\n",
    "    image_names.append(image)\n",
    "path1 = 'svm/train/2/'\n",
    "for image in Path(path1).glob('*.jpg'):\n",
    "    image_names.append(image)\n",
    "\n",
    "image_name = np.asarray(image_names)\n",
    "\n",
    "indices = np.array(alpha.reshape((4760,)).argsort()[:6]).reshape((6, 1))\n",
    "for i in range(0, indices.shape[0]):\n",
    "    image = str(image_name[indices[i]]).split('\\'')[1]\n",
    "    print(image)\n",
    "    img = Image.open(image, mode='r').resize((16, 16))\n",
    "    plt.imshow(img)\n",
    "    plt.show()"
   ]
  },
  {
   "cell_type": "code",
   "execution_count": 35,
   "id": "35728ecb",
   "metadata": {},
   "outputs": [
    {
     "name": "stdout",
     "output_type": "stream",
     "text": [
      "[1, 2, 5, 9, 14, 16, 17, 18, 23, 24, 25, 26, 28, 31, 34, 35, 39, 43, 45, 46, 49, 50, 54, 56, 57, 62, 64, 65, 67, 68, 69, 72, 73, 74, 77, 78, 79, 81, 82, 85, 91, 93, 94, 95, 96, 99, 103, 104, 106, 108, 110, 112, 113, 117, 125, 129, 133, 135, 138, 139, 140, 141, 142, 144, 146, 147, 148, 149, 150, 151, 153, 154, 157, 158, 160, 163, 167, 169, 171, 177, 178, 181, 184, 187, 193, 198, 200, 203, 205, 206, 208, 209, 211, 213, 217, 218, 219, 221, 223, 230, 231, 233, 238, 239, 240, 246, 249, 250, 252, 253, 255, 257, 259, 260, 262, 263, 264, 267, 269, 272, 273, 274, 275, 277, 279, 280, 281, 282, 285, 289, 290, 293, 294, 299, 301, 304, 307, 310, 312, 313, 314, 315, 320, 321, 323, 324, 325, 330, 332, 337, 338, 342, 344, 345, 348, 350, 352, 357, 364, 369, 372, 376, 378, 379, 381, 382, 384, 385, 387, 396, 398, 399, 401, 402, 404, 405, 407, 409, 412, 414, 416, 417, 418, 419, 421, 422, 423, 425, 429, 433, 435, 436, 437, 438, 439, 441, 442, 446, 447, 448, 450, 451, 453, 454, 456, 459, 465, 468, 469, 470, 471, 474, 475, 484, 485, 486, 489, 491, 492, 493, 494, 496, 497, 499, 504, 505, 507, 509, 511, 514, 516, 517, 518, 519, 520, 521, 522, 523, 525, 526, 529, 533, 538, 541, 545, 547, 548, 550, 552, 553, 556, 562, 566, 569, 571, 573, 574, 575, 577, 579, 580, 584, 588, 589, 590, 591, 596, 597, 598, 599, 602, 604, 605, 606, 607, 608, 610, 612, 615, 619, 621, 627, 628, 629, 631, 632, 633, 635, 637, 638, 640, 642, 643, 644, 646, 648, 650, 651, 654, 658, 661, 664, 669, 671, 672, 681, 684, 685, 686, 687, 688, 689, 690, 693, 695, 697, 699, 700, 701, 702, 705, 707, 708, 709, 710, 718, 720, 722, 724, 726, 727, 733, 734, 737, 738, 739, 740, 744, 747, 750, 751, 755, 756, 760, 765, 766, 768, 769, 770, 774, 776, 777, 786, 787, 788, 789, 791, 792, 796, 801, 805, 810, 814, 817, 818, 821, 822, 826, 829, 830, 833, 835, 839, 843, 845, 846, 850, 854, 855, 857, 860, 861, 865, 866, 867, 874, 876, 877, 878, 880, 883, 887, 888, 891, 893, 896, 897, 901, 904, 908, 913, 914, 915, 916, 917, 919, 921, 922, 924, 925, 926, 927, 932, 933, 935, 937, 938, 939, 944, 946, 948, 950, 951, 952, 953, 960, 963, 965, 966, 969, 970, 971, 972, 973, 974, 977, 979, 980, 982, 983, 984, 987, 993, 999, 1000, 1001, 1005, 1008, 1010, 1013, 1014, 1019, 1020, 1027, 1029, 1032, 1038, 1040, 1041, 1044, 1045, 1051, 1052, 1055, 1060, 1064, 1065, 1067, 1071, 1072, 1080, 1094, 1096, 1098, 1101, 1103, 1106, 1109, 1111, 1112, 1113, 1118, 1119, 1120, 1121, 1126, 1127, 1128, 1129, 1130, 1132, 1140, 1141, 1144, 1146, 1147, 1151, 1152, 1155, 1159, 1163, 1167, 1172, 1174, 1178, 1181, 1182, 1183, 1185, 1186, 1187, 1188, 1189, 1193, 1194, 1195, 1196, 1197, 1199, 1204, 1205, 1207, 1212, 1216, 1219, 1222, 1225, 1226, 1228, 1230, 1232, 1233, 1234, 1237, 1239, 1241, 1242, 1246, 1251, 1255, 1260, 1261, 1262, 1265, 1267, 1269, 1270, 1272, 1275, 1277, 1278, 1282, 1284, 1285, 1289, 1292, 1294, 1297, 1298, 1302, 1305, 1307, 1309, 1311, 1312, 1314, 1315, 1319, 1320, 1323, 1326, 1328, 1329, 1330, 1331, 1334, 1338, 1340, 1341, 1342, 1343, 1350, 1352, 1354, 1358, 1361, 1362, 1364, 1367, 1368, 1369, 1370, 1378, 1380, 1382, 1383, 1385, 1394, 1395, 1400, 1406, 1409, 1414, 1415, 1418, 1420, 1423, 1424, 1426, 1427, 1429, 1436, 1439, 1441, 1442, 1443, 1444, 1445, 1446, 1449, 1450, 1451, 1452, 1453, 1456, 1457, 1458, 1462, 1463, 1464, 1465, 1467, 1468, 1470, 1473, 1475, 1480, 1486, 1490, 1491, 1493, 1498, 1499, 1500, 1506, 1515, 1516, 1521, 1522, 1523, 1528, 1529, 1534, 1535, 1540, 1541, 1542, 1543, 1548, 1551, 1556, 1557, 1558, 1561, 1563, 1565, 1568, 1571, 1574, 1577, 1578, 1579, 1581, 1584, 1585, 1587, 1590, 1593, 1594, 1595, 1596, 1598, 1600, 1601, 1603, 1606, 1607, 1610, 1612, 1613, 1614, 1615, 1617, 1619, 1624, 1626, 1631, 1632, 1639, 1640, 1641, 1643, 1647, 1648, 1650, 1653, 1654, 1656, 1662, 1663, 1664, 1665, 1666, 1671, 1677, 1678, 1679, 1680, 1681, 1683, 1684, 1686, 1688, 1690, 1691, 1695, 1696, 1697, 1698, 1699, 1700, 1702, 1703, 1709, 1710, 1714, 1715, 1716, 1719, 1720, 1725, 1728, 1729, 1733, 1734, 1738, 1741, 1742, 1744, 1745, 1748, 1749, 1751, 1752, 1753, 1757, 1758, 1759, 1761, 1764, 1766, 1767, 1768, 1769, 1770, 1771, 1772, 1773, 1774, 1776, 1779, 1780, 1782, 1783, 1785, 1789, 1790, 1799, 1800, 1801, 1803, 1804, 1808, 1809, 1813, 1814, 1815, 1816, 1824, 1825, 1827, 1829, 1830, 1835, 1838, 1842, 1843, 1845, 1847, 1848, 1849, 1852, 1854, 1856, 1857, 1863, 1864, 1867, 1870, 1871, 1873, 1874, 1876, 1878, 1880, 1881, 1882, 1888, 1890, 1892, 1893, 1896, 1897, 1898, 1900, 1905, 1908, 1910, 1913, 1914, 1915, 1918, 1921, 1922, 1923, 1925, 1927, 1934, 1937, 1939, 1941, 1942, 1943, 1945, 1950, 1952, 1955, 1959, 1961, 1964, 1967, 1972, 1976, 1977, 1978, 1979, 1980, 1982, 1987, 1995, 1996, 1999, 2000, 2004, 2008, 2009, 2010, 2011, 2016, 2017, 2020, 2021, 2023, 2025, 2026, 2027, 2033, 2034, 2037, 2038, 2041, 2043, 2044, 2045, 2046, 2047, 2052, 2054, 2057, 2060, 2061, 2067, 2069, 2070, 2072, 2073, 2074, 2077, 2080, 2082, 2084, 2090, 2091, 2092, 2095, 2096, 2099, 2100, 2102, 2103, 2107, 2108, 2113, 2115, 2118, 2119, 2122, 2124, 2128, 2129, 2130, 2132, 2133, 2137, 2139, 2141, 2142, 2147, 2148, 2153, 2155, 2156, 2157, 2158, 2161, 2163, 2164, 2166, 2167, 2168, 2169, 2172, 2174, 2177, 2178, 2179, 2185, 2191, 2193, 2195, 2197, 2201, 2202, 2211, 2214, 2219, 2222, 2223, 2226, 2228, 2235, 2236, 2238, 2239, 2242, 2243, 2247, 2251, 2254, 2255, 2257, 2262, 2264, 2265, 2267, 2269, 2271, 2274, 2276, 2278, 2279, 2286, 2290, 2292, 2296, 2301, 2305, 2307, 2310, 2312, 2317, 2318, 2319, 2320, 2322, 2324, 2325, 2326, 2329, 2331, 2333, 2338, 2339, 2343, 2344, 2345, 2347, 2351, 2352, 2356, 2358, 2359, 2361, 2363, 2364, 2365, 2366, 2367, 2369, 2370, 2372, 2373, 2374, 2375, 2377, 2381, 2383, 2384, 2386, 2388, 2389, 2392, 2394, 2396, 2400, 2404, 2406, 2409, 2412, 2414, 2417, 2422, 2428, 2429, 2431, 2432, 2433, 2434, 2439, 2441, 2443, 2450, 2451, 2453, 2456, 2457, 2461, 2467, 2469, 2470, 2480, 2481, 2483, 2486, 2487, 2488, 2497, 2504, 2505, 2506, 2507, 2511, 2513, 2514, 2515, 2519, 2520, 2523, 2526, 2529, 2530, 2531, 2533, 2534, 2535, 2536, 2539, 2541, 2542, 2546, 2551, 2552, 2555, 2556, 2557, 2559, 2564, 2565, 2569, 2573, 2575, 2576, 2577, 2582, 2584, 2588, 2590, 2592, 2593, 2595, 2598, 2599, 2600, 2601, 2603, 2605, 2607, 2609, 2610, 2611, 2612, 2615, 2617, 2620, 2621, 2624, 2627, 2628, 2629, 2631, 2634, 2635, 2636, 2638, 2639, 2643, 2644, 2645, 2646, 2647, 2649, 2650, 2654, 2655, 2658, 2659, 2664, 2665, 2666, 2671, 2672, 2683, 2687, 2688, 2689, 2691, 2693, 2694, 2695, 2697, 2698, 2703, 2704, 2705, 2707, 2713, 2716, 2719, 2720, 2721, 2722, 2723, 2724, 2725, 2729, 2730, 2732, 2736, 2738, 2743, 2745, 2746, 2747, 2748, 2749, 2755, 2756, 2758, 2761, 2763, 2766, 2768, 2769, 2771, 2772, 2775, 2778, 2779, 2781, 2782, 2788, 2789, 2791, 2793, 2795, 2801, 2802, 2806, 2810, 2811, 2812, 2815, 2817, 2818, 2820, 2822, 2824, 2825, 2827, 2830, 2833, 2834, 2836, 2844, 2845, 2852, 2855, 2856, 2858, 2859, 2860, 2862, 2868, 2870, 2873, 2874, 2878, 2880, 2886, 2888, 2889, 2894, 2895, 2898, 2901, 2904, 2905, 2907, 2908, 2909, 2910, 2911, 2912, 2915, 2921, 2923, 2924, 2925, 2930, 2932, 2933, 2937, 2941, 2943, 2945, 2946, 2947, 2948, 2949, 2953, 2954, 2955, 2957, 2958, 2959, 2964, 2969, 2970, 2973, 2977, 2978, 2979, 2986, 2989, 2990, 2992, 2993, 2995, 2996, 2997, 2998, 3000, 3002, 3005, 3007, 3009, 3012, 3014, 3016, 3017, 3018, 3020, 3022, 3023, 3025, 3026, 3027, 3030, 3031, 3032, 3039, 3040, 3041, 3042, 3045, 3046, 3053, 3058, 3059, 3060, 3061, 3063, 3066, 3068, 3069, 3072, 3078, 3081, 3082, 3085, 3086, 3087, 3091, 3092, 3093, 3095, 3097, 3100, 3101, 3102, 3104, 3105, 3108, 3110, 3111, 3112, 3115, 3116, 3117, 3120, 3122, 3123, 3124, 3129, 3130, 3131, 3132, 3133, 3134, 3135, 3136, 3139, 3140, 3141, 3142, 3145, 3148, 3150, 3151, 3153, 3154, 3159, 3160, 3161, 3162, 3166, 3167, 3168, 3172, 3176, 3182, 3184, 3185, 3188, 3190, 3195, 3196, 3201, 3203, 3205, 3207, 3210, 3217, 3219, 3220, 3221, 3223, 3224, 3225, 3228, 3231, 3232, 3233, 3236, 3238, 3239, 3242, 3245, 3247, 3251, 3258, 3261, 3267, 3269, 3272, 3274, 3276, 3277, 3280, 3283, 3284, 3285, 3286, 3288, 3292, 3293, 3295, 3301, 3303, 3304, 3306, 3307, 3311, 3312, 3316, 3325, 3326, 3328, 3330, 3331, 3332, 3333, 3339, 3340, 3343, 3349, 3353, 3355, 3356, 3357, 3358, 3359, 3360, 3362, 3365, 3366, 3367, 3368, 3371, 3374, 3376, 3379, 3388, 3389, 3390, 3393, 3400, 3402, 3403, 3406, 3408, 3410, 3414, 3415, 3417, 3421, 3425, 3432, 3436, 3438, 3440, 3444, 3445, 3449, 3451, 3452, 3454, 3455, 3456, 3458, 3459, 3461, 3462, 3463, 3464, 3465, 3473, 3474, 3476, 3479, 3486, 3489, 3493, 3494, 3495, 3496, 3497, 3498, 3502, 3504, 3505, 3510, 3515, 3517, 3518, 3519, 3521, 3524, 3527, 3529, 3533, 3537, 3539, 3542, 3544, 3545, 3548, 3550, 3551, 3552, 3554, 3556, 3560, 3566, 3567, 3568, 3574, 3577, 3578, 3580, 3581, 3582, 3583, 3585, 3586, 3591, 3595, 3598, 3599, 3602, 3606, 3608, 3609, 3612, 3615, 3617, 3621, 3622, 3624, 3627, 3629, 3630, 3631, 3634, 3635, 3636, 3637, 3639, 3640, 3644, 3651, 3652, 3655, 3659, 3660, 3662, 3665, 3666, 3667, 3673, 3675, 3677, 3678, 3683, 3685, 3688, 3692, 3695, 3697, 3698, 3700, 3701, 3703, 3704, 3705, 3710, 3711, 3713, 3715, 3716, 3719, 3720, 3722, 3723, 3725, 3726, 3728, 3732, 3733, 3734, 3741, 3742, 3744, 3745, 3747, 3748, 3753, 3754, 3758, 3762, 3764, 3766, 3767, 3768, 3769, 3770, 3772, 3773, 3775, 3776, 3777, 3780, 3783, 3787, 3788, 3790, 3792, 3794, 3797, 3799, 3800, 3802, 3806, 3809, 3810, 3811, 3813, 3815, 3819, 3820, 3826, 3827, 3829, 3830, 3831, 3833, 3834, 3844, 3847, 3852, 3859, 3861, 3865, 3867, 3868, 3871, 3879, 3880, 3882, 3884, 3889, 3890, 3891, 3893, 3894, 3897, 3900, 3901, 3902, 3903, 3904, 3905, 3906, 3910, 3914, 3915, 3917, 3918, 3919, 3920, 3922, 3926, 3928, 3930, 3932, 3936, 3937, 3938, 3939, 3940, 3943, 3946, 3947, 3948, 3949, 3950, 3952, 3953, 3954, 3958, 3959, 3965, 3966, 3969, 3971, 3975, 3976, 3978, 3979, 3982, 3985, 3986, 3987, 3989, 3990, 3991, 3992, 4004, 4005, 4008, 4011, 4012, 4013, 4014, 4015, 4016, 4018, 4019, 4020, 4022, 4024, 4025, 4026, 4028, 4033, 4034, 4037, 4039, 4040, 4044, 4047, 4049, 4050, 4051, 4054, 4058, 4060, 4061, 4062, 4067, 4070, 4071, 4078, 4084, 4086, 4087, 4088, 4092, 4094, 4097, 4099, 4101, 4103, 4104, 4105, 4106, 4108, 4109, 4112, 4114, 4118, 4119, 4120, 4128, 4129, 4133, 4137, 4138, 4145, 4149, 4151, 4152, 4154, 4156, 4159, 4160, 4162, 4168, 4170, 4172, 4173, 4177, 4178, 4180, 4181, 4182, 4184, 4187, 4189, 4190, 4192, 4196, 4198, 4200, 4203, 4206, 4207, 4209, 4211, 4212, 4213, 4214, 4215, 4216, 4217, 4218, 4219, 4220, 4223, 4227, 4231, 4232, 4234, 4235, 4241, 4242, 4243, 4244, 4245, 4246, 4247, 4248, 4252, 4253, 4260, 4265, 4266, 4268, 4270, 4274, 4275, 4279, 4280, 4281, 4285, 4286, 4287, 4289, 4290, 4296, 4300, 4301, 4304, 4305, 4306, 4307, 4308, 4311, 4314, 4320, 4322, 4323, 4327, 4329, 4330, 4331, 4332, 4333, 4334, 4336, 4337, 4341, 4342, 4344, 4345, 4347, 4349, 4350, 4351, 4353, 4363, 4364, 4366, 4369, 4370, 4371, 4374, 4376, 4377, 4384, 4387, 4390, 4393, 4396, 4398, 4401, 4403, 4404, 4406, 4407, 4409, 4410, 4411, 4414, 4415, 4419, 4420, 4423, 4428, 4429, 4432, 4433, 4434, 4435, 4437, 4439, 4442, 4443, 4444, 4449, 4451, 4452, 4455, 4457, 4458, 4463, 4472, 4474, 4476, 4483, 4484, 4485, 4486, 4487, 4490, 4494, 4495, 4499, 4501, 4503, 4510, 4511, 4512, 4516, 4519, 4520, 4523, 4524, 4526, 4527, 4529, 4530, 4531, 4536, 4545, 4547, 4550, 4552, 4553, 4554, 4557, 4559, 4561, 4562, 4564, 4568, 4569, 4571, 4575, 4578, 4581, 4587, 4589, 4591, 4596, 4599, 4601, 4605, 4606, 4608, 4610, 4611, 4615, 4618, 4620, 4621, 4628, 4631, 4632, 4636, 4637, 4638, 4639, 4644, 4646, 4647, 4648, 4654, 4657, 4659, 4660, 4662, 4663, 4665, 4666, 4669, 4672, 4674, 4676, 4678, 4679, 4681, 4683, 4684, 4685, 4686, 4687, 4690, 4694, 4697, 4698, 4702, 4704, 4706, 4707, 4711, 4713, 4714, 4715, 4716, 4721, 4722, 4727, 4728, 4729, 4731, 4735, 4737, 4740, 4743, 4744, 4745, 4746, 4748, 4752, 4759]\n"
     ]
    }
   ],
   "source": [
    "print(gaussian_sv[0].tolist())"
   ]
  }
 ],
 "metadata": {
  "kernelspec": {
   "display_name": "Python 3 (ipykernel)",
   "language": "python",
   "name": "python3"
  },
  "language_info": {
   "codemirror_mode": {
    "name": "ipython",
    "version": 3
   },
   "file_extension": ".py",
   "mimetype": "text/x-python",
   "name": "python",
   "nbconvert_exporter": "python",
   "pygments_lexer": "ipython3",
   "version": "3.11.5"
  }
 },
 "nbformat": 4,
 "nbformat_minor": 5
}
