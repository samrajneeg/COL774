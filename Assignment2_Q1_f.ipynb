{
 "cells": [
  {
   "cell_type": "code",
   "execution_count": 1,
   "id": "c898121a",
   "metadata": {},
   "outputs": [],
   "source": [
    "import pandas as pd\n",
    "import numpy as np\n",
    "import math\n",
    "import time\n",
    "import random\n",
    "import re\n",
    "from PIL import Image\n",
    "import matplotlib.pyplot as plt\n",
    "from wordcloud import WordCloud, STOPWORDS"
   ]
  },
  {
   "cell_type": "code",
   "execution_count": 2,
   "id": "5bd5f81e",
   "metadata": {},
   "outputs": [
    {
     "name": "stdout",
     "output_type": "stream",
     "text": [
      "          ID Sentiment                                              Tweet\n",
      "0      22979  Positive  I see all kinds of academics already whipping ...\n",
      "1       9880  Negative  @HenrySmithUK can you raise with Boris please ...\n",
      "2      35761  Negative  It s a confusing odd time for the shopping pub...\n",
      "3      37968  Positive  Blog Summary: The Impact of COVID-19 on the Ca...\n",
      "4      19709   Neutral  ??????? ??????? ???\\r\\r\\nWaiting in a long Que...\n",
      "...      ...       ...                                                ...\n",
      "37859  20253   Neutral  DOUBLE TAP ??IF YOU REMEMBER BEING EMPLOYED?\\r...\n",
      "37860  38926  Positive  Struggling to understand why supermarkets or f...\n",
      "37861  35889  Positive  For anyone interested in the checklist on cons...\n",
      "37862  40641  Positive  Do you agree with the hypothesis that Indian s...\n",
      "37863  26063   Neutral  In Richmond, local boutiques and thrift stores...\n",
      "\n",
      "[37864 rows x 3 columns]\n"
     ]
    }
   ],
   "source": [
    "df = pd.read_csv('Corona_train.csv')\n",
    "df.rename(columns={'CoronaTweet':'Tweet'}, inplace=True)\n",
    "print(df)"
   ]
  },
  {
   "cell_type": "code",
   "execution_count": 10,
   "id": "5e93fdd3",
   "metadata": {},
   "outputs": [],
   "source": [
    "target_df_1 = pd.read_csv('Twitter_train_1.csv')\n",
    "df_1 = pd.concat([df, target_df_1])\n",
    "\n",
    "target_df_2 = pd.read_csv('Twitter_train_2.csv')\n",
    "df_2 = pd.concat([df, target_df_2])\n",
    "\n",
    "target_df_5 = pd.read_csv('Twitter_train_5.csv')\n",
    "df_5 = pd.concat([df, target_df_5])\n",
    "\n",
    "target_df_10 = pd.read_csv('Twitter_train_10.csv')\n",
    "df_10 = pd.concat([df, target_df_10])\n",
    "\n",
    "target_df_25 = pd.read_csv('Twitter_train_25.csv')\n",
    "df_25 = pd.concat([df, target_df_25])\n",
    "\n",
    "target_df_50 = pd.read_csv('Twitter_train_50.csv')\n",
    "df_50 = pd.concat([df, target_df_50])\n",
    "\n",
    "target_df_100 = pd.read_csv('Twitter_train_100.csv')\n",
    "df_100 = pd.concat([df, target_df_100])"
   ]
  },
  {
   "cell_type": "code",
   "execution_count": 4,
   "id": "35253032",
   "metadata": {},
   "outputs": [],
   "source": [
    "def stopword_stemming(tweet_list):\n",
    "    stopwords = [\"i\", \"me\", \"my\", \"myself\", \"we\", \"our\", \"ours\", \"ourselves\", \"you\", \"you're\", \"you've\", \"you'll\", \"you'd\", \"your\", \"yours\", \"yourself\", \"yourselves\", \"he\", \"him\", \"his\", \"himself\", \"she\", \"she's\", \"her\", \"hers\", \"herself\", \"it\", \"it's\", \"its\", \"itself\", \"they\", \"them\", \"their\", \"theirs\", \"themselves\", \"what\", \"which\", \"who\", \"whom\", \"this\", \"that\", \"that'll\", \"these\", \"those\", \"am\", \"is\", \"are\", \"was\", \"were\", \"be\", \"been\", \"being\", \"have\", \"has\", \"had\", \"having\", \"do\", \"does\", \"did\", \"doing\", \"a\", \"an\", \"the\", \"and\", \"but\", \"if\", \"or\", \"because\", \"as\", \"until\", \"while\", \"of\", \"at\", \"by\", \"for\", \"with\", \"about\", \"against\", \"between\", \"into\", \"through\", \"during\", \"before\", \"after\", \"above\", \"below\", \"to\", \"from\", \"up\", \"down\", \"in\", \"out\", \"on\", \"off\", \"over\", \"under\", \"again\", \"further\", \"then\", \"once\", \"here\", \"there\", \"when\", \"where\", \"why\", \"how\", \"all\", \"any\", \"both\", \"each\", \"few\", \"more\", \"most\", \"other\", \"some\", \"such\", \"no\", \"nor\", \"not\", \"only\", \"own\", \"same\", \"so\", \"than\", \"too\", \"very\", \"s\", \"t\", \"can\", \"will\", \"just\", \"don\", \"don't\", \"should\", \"should've\", \"now\", \"d\", \"ll\", \"m\", \"o\", \"re\", \"ve\", \"y\", \"ain\", \"aren\", \"aren't\", \"couldn\", \"couldn't\", \"didn\", \"didn't\", \"doesn\", \"doesn't\", \"hadn\", \"hadn't\", \"hasn\", \"hasn't\", \"haven\", \"haven't\", \"isn\", \"isn't\", \"ma\", \"mightn\", \"mightn't\", \"mustn\", \"mustn't\", \"needn\", \"needn't\", \"shan\", \"shan't\", \"shouldn\", \"shouldn't\", \"wasn\", \"wasn't\", \"weren\", \"weren't\", \"won\", \"won't\", \"wouldn\", \"wouldn't\"]\n",
    "    tweet_list_stop = [w for w in tweet_list if not w.lower() in stopwords]\n",
    "    for i in range(0, len(tweet_list_stop)):\n",
    "        if(tweet_list_stop[i].endswith(\"ing\")):\n",
    "            str_name = tweet_list_stop[i]\n",
    "            tweet_list_stop[i] = str_name[ :len(str_name)-len(\"ing\") ]\n",
    "        if(tweet_list_stop[i].endswith(\"ed\")):\n",
    "            str_name = tweet_list_stop[i]\n",
    "            tweet_list_stop[i] = str_name[ :len(str_name)-len(\"ed\") ]\n",
    "\n",
    "    return tweet_list_stop\n",
    "\n",
    "def vocabulary(x, mode):\n",
    "    if mode==0:\n",
    "        vocab = {}\n",
    "        for tweet in x:\n",
    "            tweet_list = list()\n",
    "            tweet_list = re.split('\\r|\\n|\\s|\\t|\\!|\\?|\\.|\\#|\\,|\\:', tweet.lower())\n",
    "            for words in stopword_stemming(tweet_list):\n",
    "                if(words != \"\" and words in vocab.keys()):\n",
    "                    vocab.update({words:vocab[words]+1})\n",
    "                elif(words != \"\"):\n",
    "                    vocab[words] = 1\n",
    "                else:\n",
    "                    continue\n",
    "    return vocab"
   ]
  },
  {
   "cell_type": "code",
   "execution_count": 5,
   "id": "15608b96",
   "metadata": {},
   "outputs": [],
   "source": [
    "def log_prob_priori(y):\n",
    "    positive = math.log(y.loc[y == 'Positive'].shape[0]/y.shape[0])\n",
    "    negative = math.log(y.loc[y == 'Negative'].shape[0]/y.shape[0])\n",
    "    neutral = math.log(y.loc[y == 'Neutral'].shape[0]/y.shape[0])\n",
    "    return [positive, negative, neutral]\n",
    "\n",
    "def log_prob_posteriori(test_tweet, label, alpha, df, no_of_words, vocab, v):\n",
    "    df_label = df.loc[df['Sentiment'] == label]\n",
    "    final_sum = 0\n",
    "    for word in stopword_stemming(re.split('\\r|\\n|\\s|\\t|\\!|\\?|\\.|\\#|\\,|\\:', test_tweet)):\n",
    "        if(word != '' and word in vocab.keys()):\n",
    "            sum_label = alpha + vocab[word]\n",
    "        elif(word != ''):\n",
    "            sum_label = alpha\n",
    "        else:\n",
    "            continue\n",
    "        #final_sum += math.log(sum_label/(df_label.shape[0] + alpha*3))\n",
    "        final_sum += math.log(sum_label/(no_of_words[label] + len(v)))\n",
    "    return final_sum\n",
    "\n",
    "def NaiveBayes(df, df_test, alpha):\n",
    "    no_of_words = {}\n",
    "    for label in ['Positive', 'Negative', 'Neutral']:\n",
    "        df_label = df.loc[df['Sentiment'] == label]['Tweet']\n",
    "        c = 0\n",
    "        for tweet in df_label:\n",
    "            lst = []\n",
    "            lst = stopword_stemming(re.split('\\r|\\n|\\s|\\t|\\!|\\?|\\.|\\#|\\,|\\:', tweet))\n",
    "            if '' in lst: lst.remove('')\n",
    "            c += len(lst)\n",
    "        no_of_words[label] = c\n",
    "\n",
    "    vocab_pos = vocabulary(df.loc[df['Sentiment'] == 'Positive']['Tweet'], 0)\n",
    "    vocab_neg = vocabulary(df.loc[df['Sentiment'] == 'Negative']['Tweet'], 0)\n",
    "    vocab_neu = vocabulary(df.loc[df['Sentiment'] == 'Neutral']['Tweet'], 0)\n",
    "    v = vocabulary(df['Tweet'], 0)\n",
    "\n",
    "    labels = ['Positive', 'Negative', 'Neutral']\n",
    "    predicted_label = list()\n",
    "    log_priori = log_prob_priori(df['Sentiment'])\n",
    "    prob_y = list()\n",
    "    for tweet in df_test['Tweet']:\n",
    "        max_predict = list()\n",
    "        for label in labels:\n",
    "            vocab = {}\n",
    "            if(label == 'Positive'):\n",
    "                vocab = vocab_pos\n",
    "            elif(label == 'Negative'):\n",
    "                vocab = vocab_neg\n",
    "            else:\n",
    "                vocab = vocab_neu\n",
    "            max_predict.append(math.exp(log_prob_posteriori(tweet.lower(), label, alpha, df, no_of_words, vocab, v) + log_priori[labels.index(label)]))\n",
    "        prob_y.append(max_predict)\n",
    "        predicted_label.append(labels[max_predict.index(max(max_predict))])\n",
    "    return prob_y, predicted_label"
   ]
  },
  {
   "cell_type": "code",
   "execution_count": 6,
   "id": "f4e6745e",
   "metadata": {},
   "outputs": [],
   "source": [
    "def accuracy(prediction, real):\n",
    "    correct = 0\n",
    "    for i in range(0, len(prediction)):\n",
    "        if(prediction[i] == real[i]):\n",
    "            correct += 1\n",
    "    return correct/len(prediction)"
   ]
  },
  {
   "cell_type": "code",
   "execution_count": 7,
   "id": "c368ea8b",
   "metadata": {},
   "outputs": [],
   "source": [
    "df_test = pd.read_csv('Twitter_validation.csv')\n",
    "accuracies = list()\n",
    "\n",
    "prob_y_given_x_1, prediction_1 = NaiveBayes(df_1, df_test, 1)\n",
    "accuracies.append(accuracy(prediction_1, df_test['Sentiment'].values.tolist()))\n",
    "\n",
    "prob_y_given_x_2, prediction_2 = NaiveBayes(df_2, df_test, 1)\n",
    "accuracies.append(accuracy(prediction_2, df_test['Sentiment'].values.tolist()))\n",
    "\n",
    "prob_y_given_x_5, prediction_5 = NaiveBayes(df_5, df_test, 1)\n",
    "accuracies.append(accuracy(prediction_5, df_test['Sentiment'].values.tolist()))\n",
    "\n",
    "prob_y_given_x_10, prediction_10 = NaiveBayes(df_10, df_test, 1)\n",
    "accuracies.append(accuracy(prediction_10, df_test['Sentiment'].values.tolist()))\n",
    "\n",
    "prob_y_given_x_25, prediction_25 = NaiveBayes(df_25, df_test, 1)\n",
    "accuracies.append(accuracy(prediction_25, df_test['Sentiment'].values.tolist()))\n",
    "\n",
    "prob_y_given_x_50, prediction_50 = NaiveBayes(df_50, df_test, 1)\n",
    "accuracies.append(accuracy(prediction_50, df_test['Sentiment'].values.tolist()))\n",
    "\n",
    "prob_y_given_x_100, prediction_100 = NaiveBayes(df_100, df_test, 1)\n",
    "accuracies.append(accuracy(prediction_100, df_test['Sentiment'].values.tolist()))\n"
   ]
  },
  {
   "cell_type": "code",
   "execution_count": 11,
   "id": "eae53ce0",
   "metadata": {},
   "outputs": [],
   "source": [
    "accuracies_target = list()\n",
    "\n",
    "prob_y_given_x_target_1, prediction_target_1 = NaiveBayes(target_df_1, df_test, 1)\n",
    "accuracies_target.append(accuracy(prediction_target_1, df_test['Sentiment'].values.tolist()))\n",
    "\n",
    "prob_y_given_x_target_2, prediction_target_2 = NaiveBayes(target_df_2, df_test, 1)\n",
    "accuracies_target.append(accuracy(prediction_target_2, df_test['Sentiment'].values.tolist()))\n",
    "\n",
    "prob_y_given_x_target_5, prediction_target_5 = NaiveBayes(target_df_5, df_test, 1)\n",
    "accuracies_target.append(accuracy(prediction_target_5, df_test['Sentiment'].values.tolist()))\n",
    "\n",
    "prob_y_given_x_target_10, prediction_target_10 = NaiveBayes(target_df_10, df_test, 1)\n",
    "accuracies_target.append(accuracy(prediction_target_10, df_test['Sentiment'].values.tolist()))\n",
    "\n",
    "prob_y_given_x_target_25, prediction_target_25 = NaiveBayes(target_df_25, df_test, 1)\n",
    "accuracies_target.append(accuracy(prediction_target_25, df_test['Sentiment'].values.tolist()))\n",
    "\n",
    "prob_y_given_x_target_50, prediction_target_50 = NaiveBayes(target_df_50, df_test, 1)\n",
    "accuracies_target.append(accuracy(prediction_target_50, df_test['Sentiment'].values.tolist()))\n",
    "\n",
    "prob_y_given_x_target_100, prediction_target_100 = NaiveBayes(target_df_100, df_test, 1)\n",
    "accuracies_target.append(accuracy(prediction_target_100, df_test['Sentiment'].values.tolist()))\n"
   ]
  },
  {
   "cell_type": "code",
   "execution_count": 12,
   "id": "5053ce0c",
   "metadata": {},
   "outputs": [
    {
     "name": "stdout",
     "output_type": "stream",
     "text": [
      "[0.4821073558648111, 0.49502982107355864, 0.5119284294234593, 0.5291583830351226, 0.5215374420145792, 0.5420808482438702, 0.46288933068257127]\n"
     ]
    }
   ],
   "source": [
    "print(accuracies)"
   ]
  },
  {
   "cell_type": "code",
   "execution_count": null,
   "id": "b6b3f79d",
   "metadata": {},
   "outputs": [],
   "source": [
    "#prob_y_given_x, prediction = NaiveBayes(df, df_test, 1)\n",
    "#acc = accuracy(prediction, df_test['Sentiment'].values.tolist())"
   ]
  },
  {
   "cell_type": "code",
   "execution_count": 13,
   "id": "f4a4bdf9",
   "metadata": {},
   "outputs": [
    {
     "name": "stdout",
     "output_type": "stream",
     "text": [
      "[0.35719019218025183, 0.3949635520212061, 0.43870112657389, 0.475480450629556, 0.4907223326706428, 0.5099403578528827, 0.5473823724320742]\n"
     ]
    }
   ],
   "source": [
    "print(accuracies_target)"
   ]
  },
  {
   "cell_type": "code",
   "execution_count": 16,
   "id": "00332457",
   "metadata": {},
   "outputs": [
    {
     "data": {
      "image/png": "[encoded data removed]",
      "text/plain": [
       "<Figure size 640x480 with 1 Axes>"
      ]
     },
     "metadata": {},
     "output_type": "display_data"
    }
   ],
   "source": [
    "plt.plot([1, 2, 5, 10, 25, 50, 100], accuracies, label='Source + Target Data')\n",
    "plt.scatter([1, 2, 5, 10, 25, 50, 100], accuracies)\n",
    "plt.plot([1, 2, 5, 10, 25, 50, 100], accuracies_target, label='Target Data')\n",
    "plt.scatter([1, 2, 5, 10, 25, 50, 100], accuracies_target)\n",
    "#plt.axhline(y = acc, color = 'g', linestyle = '-')\n",
    "plt.legend(loc='lower right')\n",
    "plt.xlabel('Split of data')\n",
    "plt.ylabel('Accuracy')\n",
    "plt.show()"
   ]
  }
 ],
 "metadata": {
  "kernelspec": {
   "display_name": "Python 3 (ipykernel)",
   "language": "python",
   "name": "python3"
  },
  "language_info": {
   "codemirror_mode": {
    "name": "ipython",
    "version": 3
   },
   "file_extension": ".py",
   "mimetype": "text/x-python",
   "name": "python",
   "nbconvert_exporter": "python",
   "pygments_lexer": "ipython3",
   "version": "3.11.5"
  }
 },
 "nbformat": 4,
 "nbformat_minor": 5
}
